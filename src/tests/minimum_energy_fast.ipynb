{
 "cells": [
  {
   "cell_type": "code",
   "execution_count": 1,
   "metadata": {
    "collapsed": true
   },
   "outputs": [],
   "source": [
    "#import\n",
    "\n",
    "import numpy as np\n",
    "import matplotlib.pyplot as plt\n",
    "\n",
    "from network_control.energies import minimum_energy, minimum_energy_fast\n",
    "from network_control.utils import matrix_normalization, expand_states\n",
    "from network_control.plotting import set_plotting_params, reg_plot\n",
    "set_plotting_params()"
   ]
  },
  {
   "cell_type": "code",
   "execution_count": 2,
   "outputs": [
    {
     "name": "stdout",
     "output_type": "stream",
     "text": [
      "Normalizing A for a continuous-time system\n"
     ]
    }
   ],
   "source": [
    "# load data\n",
    "A = np.load('/Users/lindenmp/Google-Drive-Penn/work/research_projects/control_package/A.npy')\n",
    "A = A[:, :, 0]\n",
    "A = matrix_normalization(A, version='continuous')\n",
    "n = np.shape(A)[0]"
   ],
   "metadata": {
    "collapsed": false,
    "pycharm": {
     "name": "#%%\n"
    }
   }
  },
  {
   "cell_type": "code",
   "execution_count": 3,
   "outputs": [
    {
     "name": "stdout",
     "output_type": "stream",
     "text": [
      "(400, 100)\n"
     ]
    }
   ],
   "source": [
    "# setup arbitrary states\n",
    "n_bins = int(n/40)\n",
    "bin_size = int(n/n_bins)\n",
    "\n",
    "states = np.array([])\n",
    "for i in np.arange(n_bins):\n",
    "    states = np.append(states, np.ones(bin_size) * i)\n",
    "\n",
    "x0_mat, xf_mat = expand_states(states)\n",
    "print(x0_mat.shape)"
   ],
   "metadata": {
    "collapsed": false,
    "pycharm": {
     "name": "#%%\n"
    }
   }
  },
  {
   "cell_type": "markdown",
   "source": [
    "## Minimum Energy"
   ],
   "metadata": {
    "collapsed": false
   }
  },
  {
   "cell_type": "code",
   "execution_count": 4,
   "outputs": [
    {
     "data": {
      "text/plain": "2.064805514466135e-14"
     },
     "execution_count": 4,
     "metadata": {},
     "output_type": "execute_result"
    }
   ],
   "source": [
    "i = 50\n",
    "B = np.eye(n)\n",
    "x0 = x0_mat[:, i]\n",
    "xf = xf_mat[:, i]\n",
    "T = 1\n",
    "m_x, m_u, n_err = minimum_energy(A, T, B, x0, xf)\n",
    "n_err"
   ],
   "metadata": {
    "collapsed": false,
    "pycharm": {
     "name": "#%%\n"
    }
   }
  },
  {
   "cell_type": "markdown",
   "source": [
    "## Minimum Energy Fast"
   ],
   "metadata": {
    "collapsed": false
   }
  },
  {
   "cell_type": "code",
   "execution_count": 5,
   "outputs": [],
   "source": [
    "e_fast = minimum_energy_fast(A, T, B, x0_mat, xf_mat)"
   ],
   "metadata": {
    "collapsed": false,
    "pycharm": {
     "name": "#%%\n"
    }
   }
  },
  {
   "cell_type": "markdown",
   "source": [
    "### Minimum Energy vs Minimum Energy Fast"
   ],
   "metadata": {
    "collapsed": false,
    "pycharm": {
     "name": "#%% md\n"
    }
   }
  },
  {
   "cell_type": "code",
   "execution_count": 6,
   "outputs": [
    {
     "data": {
      "text/plain": "<Figure size 180x180 with 1 Axes>",
      "image/png": "[encoded data removed]"
     },
     "metadata": {},
     "output_type": "display_data"
    }
   ],
   "source": [
    "f, ax = plt.subplots(1, 1, figsize=(2.5, 2.5))\n",
    "reg_plot(x=np.sum(m_u**2, axis=0), y=e_fast[:, i], xlabel='minumum energy', ylabel='minumum energy (fast)', ax=ax)\n",
    "plt.show()\n",
    "f.savefig('corr(energy,energy_fast)', dpi=300, bbox_inches='tight', pad_inches=0.1)"
   ],
   "metadata": {
    "collapsed": false,
    "pycharm": {
     "name": "#%%\n"
    }
   }
  }
 ],
 "metadata": {
  "kernelspec": {
   "display_name": "Python 3",
   "language": "python",
   "name": "python3"
  },
  "language_info": {
   "codemirror_mode": {
    "name": "ipython",
    "version": 2
   },
   "file_extension": ".py",
   "mimetype": "text/x-python",
   "name": "python",
   "nbconvert_exporter": "python",
   "pygments_lexer": "ipython2",
   "version": "2.7.6"
  }
 },
 "nbformat": 4,
 "nbformat_minor": 0
}