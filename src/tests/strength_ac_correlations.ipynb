{
 "cells": [
  {
   "cell_type": "code",
   "execution_count": 1,
   "outputs": [],
   "source": [
    "#import\n",
    "import os\n",
    "import numpy as np\n",
    "import scipy as sp\n",
    "import matplotlib.pyplot as plt\n",
    "\n",
    "from network_control.metrics import node_strength, ave_control, modal_control\n",
    "from network_control.utils import rank_int, matrix_normalization\n",
    "from network_control.plotting import set_plotting_params, reg_plot\n",
    "set_plotting_params()"
   ],
   "metadata": {
    "collapsed": false,
    "pycharm": {
     "name": "#%%\n"
    }
   }
  },
  {
   "cell_type": "code",
   "execution_count": 2,
   "outputs": [],
   "source": [
    "# load data\n",
    "workdir = '/Users/lindenmp/Google-Drive-Penn/work/research_projects/control_package/'\n",
    "A = np.load(os.path.join(workdir, 'A.npy'))\n",
    "A = A[:, :, :200]\n",
    "n_nodes = A.shape[0]\n",
    "n_subs = A.shape[2]\n",
    "g = 0\n",
    "gradient = np.loadtxt((os.path.join(workdir, 'gradients.txt')))[:, g]"
   ],
   "metadata": {
    "collapsed": false,
    "pycharm": {
     "name": "#%%\n"
    }
   }
  },
  {
   "cell_type": "code",
   "execution_count": 3,
   "outputs": [
    {
     "name": "stdout",
     "output_type": "stream",
     "text": [
      "Normalizing A for a discrete-time system\n",
      "Normalizing A for a discrete-time system\n",
      "Normalizing A for a discrete-time system\n",
      "Normalizing A for a discrete-time system\n",
      "Normalizing A for a discrete-time system\n",
      "Normalizing A for a discrete-time system\n",
      "Normalizing A for a discrete-time system\n",
      "Normalizing A for a discrete-time system\n",
      "Normalizing A for a discrete-time system\n",
      "Normalizing A for a discrete-time system\n",
      "Normalizing A for a discrete-time system\n",
      "Normalizing A for a discrete-time system\n",
      "Normalizing A for a discrete-time system\n",
      "Normalizing A for a discrete-time system\n",
      "Normalizing A for a discrete-time system\n",
      "Normalizing A for a discrete-time system\n",
      "Normalizing A for a discrete-time system\n",
      "Normalizing A for a discrete-time system\n",
      "Normalizing A for a discrete-time system\n",
      "Normalizing A for a discrete-time system\n",
      "Normalizing A for a discrete-time system\n",
      "Normalizing A for a discrete-time system\n",
      "Normalizing A for a discrete-time system\n",
      "Normalizing A for a discrete-time system\n",
      "Normalizing A for a discrete-time system\n",
      "Normalizing A for a discrete-time system\n",
      "Normalizing A for a discrete-time system\n",
      "Normalizing A for a discrete-time system\n",
      "Normalizing A for a discrete-time system\n",
      "Normalizing A for a discrete-time system\n",
      "Normalizing A for a discrete-time system\n",
      "Normalizing A for a discrete-time system\n",
      "Normalizing A for a discrete-time system\n",
      "Normalizing A for a discrete-time system\n",
      "Normalizing A for a discrete-time system\n",
      "Normalizing A for a discrete-time system\n",
      "Normalizing A for a discrete-time system\n",
      "Normalizing A for a discrete-time system\n",
      "Normalizing A for a discrete-time system\n",
      "Normalizing A for a discrete-time system\n",
      "Normalizing A for a discrete-time system\n",
      "Normalizing A for a discrete-time system\n",
      "Normalizing A for a discrete-time system\n",
      "Normalizing A for a discrete-time system\n",
      "Normalizing A for a discrete-time system\n",
      "Normalizing A for a discrete-time system\n",
      "Normalizing A for a discrete-time system\n",
      "Normalizing A for a discrete-time system\n",
      "Normalizing A for a discrete-time system\n",
      "Normalizing A for a discrete-time system\n",
      "Normalizing A for a discrete-time system\n",
      "Normalizing A for a discrete-time system\n",
      "Normalizing A for a discrete-time system\n",
      "Normalizing A for a discrete-time system\n",
      "Normalizing A for a discrete-time system\n",
      "Normalizing A for a discrete-time system\n",
      "Normalizing A for a discrete-time system\n",
      "Normalizing A for a discrete-time system\n",
      "Normalizing A for a discrete-time system\n",
      "Normalizing A for a discrete-time system\n",
      "Normalizing A for a discrete-time system\n",
      "Normalizing A for a discrete-time system\n",
      "Normalizing A for a discrete-time system\n",
      "Normalizing A for a discrete-time system\n",
      "Normalizing A for a discrete-time system\n",
      "Normalizing A for a discrete-time system\n",
      "Normalizing A for a discrete-time system\n",
      "Normalizing A for a discrete-time system\n",
      "Normalizing A for a discrete-time system\n",
      "Normalizing A for a discrete-time system\n",
      "Normalizing A for a discrete-time system\n",
      "Normalizing A for a discrete-time system\n",
      "Normalizing A for a discrete-time system\n",
      "Normalizing A for a discrete-time system\n",
      "Normalizing A for a discrete-time system\n",
      "Normalizing A for a discrete-time system\n",
      "Normalizing A for a discrete-time system\n",
      "Normalizing A for a discrete-time system\n",
      "Normalizing A for a discrete-time system\n",
      "Normalizing A for a discrete-time system\n",
      "Normalizing A for a discrete-time system\n",
      "Normalizing A for a discrete-time system\n",
      "Normalizing A for a discrete-time system\n",
      "Normalizing A for a discrete-time system\n",
      "Normalizing A for a discrete-time system\n",
      "Normalizing A for a discrete-time system\n",
      "Normalizing A for a discrete-time system\n",
      "Normalizing A for a discrete-time system\n",
      "Normalizing A for a discrete-time system\n",
      "Normalizing A for a discrete-time system\n",
      "Normalizing A for a discrete-time system\n",
      "Normalizing A for a discrete-time system\n",
      "Normalizing A for a discrete-time system\n",
      "Normalizing A for a discrete-time system\n",
      "Normalizing A for a discrete-time system\n",
      "Normalizing A for a discrete-time system\n",
      "Normalizing A for a discrete-time system\n",
      "Normalizing A for a discrete-time system\n",
      "Normalizing A for a discrete-time system\n",
      "Normalizing A for a discrete-time system\n",
      "Normalizing A for a discrete-time system\n",
      "Normalizing A for a discrete-time system\n",
      "Normalizing A for a discrete-time system\n",
      "Normalizing A for a discrete-time system\n",
      "Normalizing A for a discrete-time system\n",
      "Normalizing A for a discrete-time system\n",
      "Normalizing A for a discrete-time system\n",
      "Normalizing A for a discrete-time system\n",
      "Normalizing A for a discrete-time system\n",
      "Normalizing A for a discrete-time system\n",
      "Normalizing A for a discrete-time system\n",
      "Normalizing A for a discrete-time system\n",
      "Normalizing A for a discrete-time system\n",
      "Normalizing A for a discrete-time system\n",
      "Normalizing A for a discrete-time system\n",
      "Normalizing A for a discrete-time system\n",
      "Normalizing A for a discrete-time system\n",
      "Normalizing A for a discrete-time system\n",
      "Normalizing A for a discrete-time system\n",
      "Normalizing A for a discrete-time system\n",
      "Normalizing A for a discrete-time system\n",
      "Normalizing A for a discrete-time system\n",
      "Normalizing A for a discrete-time system\n",
      "Normalizing A for a discrete-time system\n",
      "Normalizing A for a discrete-time system\n",
      "Normalizing A for a discrete-time system\n",
      "Normalizing A for a discrete-time system\n",
      "Normalizing A for a discrete-time system\n",
      "Normalizing A for a discrete-time system\n",
      "Normalizing A for a discrete-time system\n",
      "Normalizing A for a discrete-time system\n",
      "Normalizing A for a discrete-time system\n",
      "Normalizing A for a discrete-time system\n",
      "Normalizing A for a discrete-time system\n",
      "Normalizing A for a discrete-time system\n",
      "Normalizing A for a discrete-time system\n",
      "Normalizing A for a discrete-time system\n",
      "Normalizing A for a discrete-time system\n",
      "Normalizing A for a discrete-time system\n",
      "Normalizing A for a discrete-time system\n",
      "Normalizing A for a discrete-time system\n",
      "Normalizing A for a discrete-time system\n",
      "Normalizing A for a discrete-time system\n",
      "Normalizing A for a discrete-time system\n",
      "Normalizing A for a discrete-time system\n",
      "Normalizing A for a discrete-time system\n",
      "Normalizing A for a discrete-time system\n",
      "Normalizing A for a discrete-time system\n",
      "Normalizing A for a discrete-time system\n",
      "Normalizing A for a discrete-time system\n",
      "Normalizing A for a discrete-time system\n",
      "Normalizing A for a discrete-time system\n",
      "Normalizing A for a discrete-time system\n",
      "Normalizing A for a discrete-time system\n",
      "Normalizing A for a discrete-time system\n",
      "Normalizing A for a discrete-time system\n",
      "Normalizing A for a discrete-time system\n",
      "Normalizing A for a discrete-time system\n",
      "Normalizing A for a discrete-time system\n",
      "Normalizing A for a discrete-time system\n",
      "Normalizing A for a discrete-time system\n",
      "Normalizing A for a discrete-time system\n",
      "Normalizing A for a discrete-time system\n",
      "Normalizing A for a discrete-time system\n",
      "Normalizing A for a discrete-time system\n",
      "Normalizing A for a discrete-time system\n",
      "Normalizing A for a discrete-time system\n",
      "Normalizing A for a discrete-time system\n",
      "Normalizing A for a discrete-time system\n",
      "Normalizing A for a discrete-time system\n",
      "Normalizing A for a discrete-time system\n",
      "Normalizing A for a discrete-time system\n",
      "Normalizing A for a discrete-time system\n",
      "Normalizing A for a discrete-time system\n",
      "Normalizing A for a discrete-time system\n",
      "Normalizing A for a discrete-time system\n",
      "Normalizing A for a discrete-time system\n",
      "Normalizing A for a discrete-time system\n",
      "Normalizing A for a discrete-time system\n",
      "Normalizing A for a discrete-time system\n",
      "Normalizing A for a discrete-time system\n",
      "Normalizing A for a discrete-time system\n",
      "Normalizing A for a discrete-time system\n",
      "Normalizing A for a discrete-time system\n",
      "Normalizing A for a discrete-time system\n",
      "Normalizing A for a discrete-time system\n",
      "Normalizing A for a discrete-time system\n",
      "Normalizing A for a discrete-time system\n",
      "Normalizing A for a discrete-time system\n",
      "Normalizing A for a discrete-time system\n",
      "Normalizing A for a discrete-time system\n",
      "Normalizing A for a discrete-time system\n",
      "Normalizing A for a discrete-time system\n",
      "Normalizing A for a discrete-time system\n",
      "Normalizing A for a discrete-time system\n",
      "Normalizing A for a discrete-time system\n",
      "Normalizing A for a discrete-time system\n",
      "Normalizing A for a discrete-time system\n",
      "Normalizing A for a discrete-time system\n",
      "Normalizing A for a discrete-time system\n"
     ]
    }
   ],
   "source": [
    "# compute strength and average controllability\n",
    "s = np.zeros((n_subs, n_nodes))\n",
    "ac = np.zeros((n_subs, n_nodes))\n",
    "for i in np.arange(n_subs):\n",
    "    a = A[:, :, i]\n",
    "    s[i, :] = node_strength(a)\n",
    "    ac[i, :] = ave_control(matrix_normalization(a, version='discrete'))"
   ],
   "metadata": {
    "collapsed": false,
    "pycharm": {
     "name": "#%%\n"
    }
   }
  },
  {
   "cell_type": "code",
   "execution_count": 4,
   "outputs": [],
   "source": [
    "# compute cross subject correlations\n",
    "corr_s_ac = np.zeros(n_nodes)\n",
    "for i in np.arange(n_nodes):\n",
    "    s[:, i] = rank_int(s[:, i])\n",
    "    ac[:, i] = rank_int(ac[:, i])\n",
    "    corr_s_ac[i] = sp.stats.pearsonr(s[:, i], ac[:, i])[0]"
   ],
   "metadata": {
    "collapsed": false,
    "pycharm": {
     "name": "#%%\n"
    }
   }
  },
  {
   "cell_type": "markdown",
   "source": [
    "## Plot corr(s,ac) over the principal cortical gradient of FC"
   ],
   "metadata": {
    "collapsed": false
   }
  },
  {
   "cell_type": "code",
   "execution_count": 5,
   "outputs": [
    {
     "data": {
      "text/plain": "<Figure size 180x180 with 1 Axes>",
      "image/png": "[encoded data removed]"
     },
     "metadata": {},
     "output_type": "display_data"
    }
   ],
   "source": [
    "f, ax = plt.subplots(1, 1, figsize=(2.5, 2.5))\n",
    "reg_plot(x=gradient, y=corr_s_ac, xlabel='regional gradient value', ylabel='corr(s,ac)', ax=ax, c=gradient)\n",
    "plt.show()\n",
    "f.savefig('corr(grad,corr_s_ac)', dpi=300, bbox_inches='tight', pad_inches=0.1)\n"
   ],
   "metadata": {
    "collapsed": false,
    "pycharm": {
     "name": "#%%\n"
    }
   }
  }
 ],
 "metadata": {
  "kernelspec": {
   "display_name": "Python 3",
   "language": "python",
   "name": "python3"
  },
  "language_info": {
   "codemirror_mode": {
    "name": "ipython",
    "version": 2
   },
   "file_extension": ".py",
   "mimetype": "text/x-python",
   "name": "python",
   "nbconvert_exporter": "python",
   "pygments_lexer": "ipython2",
   "version": "2.7.6"
  }
 },
 "nbformat": 4,
 "nbformat_minor": 0
}