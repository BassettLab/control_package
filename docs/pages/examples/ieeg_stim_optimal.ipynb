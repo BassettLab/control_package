{
 "cells": [
  {
   "cell_type": "code",
   "execution_count": 106,
   "metadata": {},
   "outputs": [],
   "source": [
    "#import\n",
    "import os\n",
    "import numpy as np\n",
    "import scipy.io as sio\n",
    "import scipy as sp\n",
    "import pandas as pd\n",
    "import seaborn as sns\n",
    "\n",
    "np.random.seed(0)"
   ]
  },
  {
   "cell_type": "markdown",
   "metadata": {},
   "source": [
    "### Replication from White Matter Network Architecture Guides Direct Electrical Stimulation through Optimal State Transitions\n",
    "Direct electrical brain stimulation is useful treatment for some neurological disorders (most famously, Parkinson's). However, we still don't really have a good way of predicting how stimulation at single region will influnce the rest of the brain. Here, we hypothesize that input from stimulation will spread linearly along white matter tracts to impact brain activity at distant regions. We use a dataset of combined iEEG, DWI, and stimulation data to simulate stimulation based on this hypothesis.\n",
    "\n",
    "Data consist of one DWi structural adjacency matrix per dataset, and variable number of stimulation trials. Each stimulation trial includes the brain state before and after stimulation."
   ]
  },
  {
   "cell_type": "code",
   "execution_count": 19,
   "metadata": {},
   "outputs": [
    {
     "data": {
      "text/plain": [
       "dict_keys(['__header__', '__version__', '__globals__', 'Electrode_ROI', 'Post_Freq_State', 'Post_Stim_Prob', 'Pre_Freq_State', 'Pre_Stim_Prob', 'Stim_Amp', 'Stim_Duration', 'Stim_Freq', 'Stim_Loc_Idx', 'Struct_Adj'])"
      ]
     },
     "execution_count": 19,
     "metadata": {},
     "output_type": "execute_result"
    }
   ],
   "source": [
    "# load data\n",
    "workdir = '/Users/stiso/Documents/Code/test_data/'\n",
    "stim = ['R1170J_1.PS2_1_set1', 'R1173J.PS2_1_set1', 'R1170J_1.sham_PS2_1_set2']\n",
    "sham = ['R1173J.sham_PS2_1_set1', 'R1170J_1.sham_PS2_1_set1', 'R1170J_1.sham_PS2_1_set2'];\n",
    "dat = sio.loadmat(f'{workdir}Trajectory_Data.{subj[0]}.mat')\n",
    "dat.keys()"
   ]
  },
  {
   "cell_type": "code",
   "execution_count": 115,
   "metadata": {},
   "outputs": [],
   "source": [
    "#set parameters\n",
    "# these were the parameters were used in the the paper. they were chosen to minimuze error, \n",
    "# reults were validated in 2 additional parameter sets\n",
    "\n",
    "# balance between minimizing energy or minimizing distance from target state\n",
    "rho = .2  \n",
    "# time to go from initial to target state\n",
    "T = .7      \n",
    "# the number of time points the code spits out: T * 1000 + 1\n",
    "nTime = 701 \n",
    "gamma = 4\n",
    "# to try and simulate stimuluation, we're gonna weight the B matrix\n",
    "B_mu = .0005 \n",
    "B_sigma = .00005\n",
    "scale = 250"
   ]
  },
  {
   "cell_type": "markdown",
   "metadata": {},
   "source": [
    "#### Does it take more energy to get to post-stimulation state, or a  sham stimulation state?"
   ]
  },
  {
   "cell_type": "code",
   "execution_count": null,
   "metadata": {},
   "outputs": [
    {
     "name": "stdout",
     "output_type": "stream",
     "text": [
      "Normalizing A for a continuous-time system\n"
     ]
    }
   ],
   "source": [
    "from network_control.utils import matrix_normalization\n",
    "from network_control.energies import optimal_input\n",
    "\n",
    "# intiialize final data strcutre\n",
    "energies = pd.DataFrame(columns=['energy', 'condition', 'subject', 'trial', 'error'])\n",
    "\n",
    "for i,s in enumerate(stim):\n",
    "    # load in data\n",
    "    stim_dat = sio.loadmat(f'{workdir}Trajectory_Data.{s}.mat')\n",
    "    sham_dat = sio.loadmat(f'{workdir}Trajectory_Data.{sham[i]}.mat')\n",
    "    \n",
    "    # subject specific constants\n",
    "    # number of stim trials\n",
    "    nTrial = np.size(stim_dat['Post_Stim_Prob'])\n",
    "    # number of nodes/regions in the atlas we are using\n",
    "    nROI = np.size(stim_dat['Post_Freq_State'],1) \n",
    "    # number of bands\n",
    "    nFreq = np.size(stim_dat['Post_Freq_State'],2)\n",
    "    # these are the regions with contacts\n",
    "    elec_idx = np.sum(stim_dat['Post_Freq_State'][:,:,0],0) != 0 \n",
    "    ROI_idx = [not x for x in elec_idx]\n",
    "    # number of contacts\n",
    "    nElec = sum(elec_idx)\n",
    "    # stim contacts\n",
    "    stim_idx = [x[0] for x in stim_dat['Stim_Loc_Idx'][0][0]] \n",
    "    # which regions we want to constrain the state of\n",
    "    S = np.eye(nROI)\n",
    "    \n",
    "    # scale A matrix (continuous)\n",
    "    # this variable will be the same for both datasets\n",
    "    A = stim_dat['Struct_Adj'] \n",
    "    matrix_normalization(A, c=gamma, version='continuous')\n",
    "    \n",
    "    # set B matrix - ultimate goal is to have the majority of input be at the stim elecs\n",
    "    # first, we set small input everywhere\n",
    "    B = np.eye(nROI) * np.random.normal(loc=B_mu, scale=B_sigma, size=(1, nROI)) \n",
    "    # then we add 0s to all the areas whos activity we know\n",
    "    B[elec_idx,elec_idx] = 0 \n",
    "    # then, we add big numbers to the stim elecs\n",
    "    B[stim_idx,stim_idx] = np.eye(np.size(stim_idx))\n",
    "    \n",
    "    # get optimal input and trajectory for each trial\n",
    "    for t in range(nTrial):\n",
    "        # get states\n",
    "        x0_stim = np.squeeze(stim_dat['Pre_Freq_State'][t,:,:])\n",
    "        x0_sham = np.squeeze(stim_dat['Post_Freq_State'][t,:,:])\n",
    "        \n",
    "        xf_stim = np.squeeze(sham_dat['Pre_Freq_State'][t,:,:])\n",
    "        xf_sham = np.squeeze(sham_dat['Post_Freq_State'][t,:,:])\n",
    "        \n",
    "        # add 1s to regions without elecs\n",
    "        x0_stim[ROI_idx,:] = 1\n",
    "        x0_sham[ROI_idx,:] = 1\n",
    "        \n",
    "        xf_stim[ROI_idx,:] = 1\n",
    "        xf_sham[ROI_idx,:] = 1\n",
    "        \n",
    "        # concatenate across frequency bands\n",
    "        u_stim = np.zeros((nROI,nTime,nFreq))\n",
    "        u_sham = np.zeros((nROI,nTime,nFreq))\n",
    "        err_stim = np.zeros((1,nFreq))\n",
    "        err_sham = np.zeros((1,nFreq))\n",
    "        for f in range(nFreq):\n",
    "            _,curr_u_stim, curr_err_stim = optimal_input(A,T,B,x0_stim[:,f],xf_stim[:,f],rho,S)\n",
    "            _,curr_u_sham, curr_err_sham = optimal_input(A,T,B,x0_sham[:,f],xf_sham[:,f],rho,S)\n",
    "            \n",
    "            u_stim[:,:,f] = curr_u_stim.T\n",
    "            u_sham[:,:,f] = curr_u_sham.T\n",
    "            err_stim[:,f] = curr_err_stim\n",
    "            err_stim[:,f] = curr_err_stim\n",
    "        \n",
    "        # get summary of optimal input\n",
    "        # we incorporated the B matrix into our input summary because of the weighting\n",
    "        # we use the term energy to be consistent with other literature, but in some sense this is a different summary statistic\n",
    "        eng_stim = np.mean(np.linalg.norm(B*u_stim))/1000\n",
    "        eng_sham = np.mean(np.linalg.norm(B*u_sham))/1000\n",
    "        # average err over frequencies\n",
    "        err_stim = np.mean(err_stim)\n",
    "        err_stim = np.mean(err_sham)\n",
    "        \n",
    "        # add to data frame\n",
    "        curr_stim = pd.DataFrame(energy=eng_stim, condition='stim', subject=s, trial=t, error=err_stim)\n",
    "        curr_sham = pd.DataFrame(energy=eng_stim, condition='stim', subject=s, trial=t, error=err_stim)\n",
    "        energies = pd.concat([energies,curr_stim,curr_sham])\n",
    "    \n",
    "    "
   ]
  },
  {
   "cell_type": "code",
   "execution_count": 103,
   "metadata": {},
   "outputs": [
    {
     "data": {
      "text/plain": [
       "(463, 8)"
      ]
     },
     "execution_count": 103,
     "metadata": {},
     "output_type": "execute_result"
    }
   ],
   "source": [
    "np.shape(x0_sham)"
   ]
  },
  {
   "cell_type": "code",
   "execution_count": 66,
   "metadata": {},
   "outputs": [
    {
     "data": {
      "text/plain": [
       "array([435], dtype=uint16)"
      ]
     },
     "execution_count": 66,
     "metadata": {},
     "output_type": "execute_result"
    }
   ],
   "source": [
    "k = [x[0][0] for x in stim_dat['Stim_Loc_Idx']]\n",
    "k[0]"
   ]
  }
 ],
 "metadata": {
  "kernelspec": {
   "display_name": "Python 3",
   "language": "python",
   "name": "python3"
  },
  "language_info": {
   "codemirror_mode": {
    "name": "ipython",
    "version": 3
   },
   "file_extension": ".py",
   "mimetype": "text/x-python",
   "name": "python",
   "nbconvert_exporter": "python",
   "pygments_lexer": "ipython3",
   "version": "3.6.3"
  }
 },
 "nbformat": 4,
 "nbformat_minor": 2
}
