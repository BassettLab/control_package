{
 "cells": [
  {
   "cell_type": "code",
   "execution_count": 1,
   "metadata": {
    "collapsed": true
   },
   "outputs": [],
   "source": [
    "#import\n",
    "import os\n",
    "import numpy as np\n",
    "import scipy as sp\n",
    "np.random.seed(0)"
   ]
  },
  {
   "cell_type": "code",
   "execution_count": 2,
   "outputs": [],
   "source": [
    "# load data\n",
    "workdir = '/Users/lindenmp/Google-Drive-Penn/work/research_projects/control_package/'\n",
    "A = np.load(os.path.join(workdir, 'schaefer_200_streamlineCount_A.npy'))\n",
    "A = A[:, :, 0]"
   ],
   "metadata": {
    "collapsed": false,
    "pycharm": {
     "name": "#%%\n"
    }
   }
  },
  {
   "cell_type": "code",
   "execution_count": 3,
   "outputs": [
    {
     "name": "stdout",
     "output_type": "stream",
     "text": [
      "(200, 200)\n"
     ]
    }
   ],
   "source": [
    "print(A.shape)"
   ],
   "metadata": {
    "collapsed": false,
    "pycharm": {
     "name": "#%%\n"
    }
   }
  },
  {
   "cell_type": "markdown",
   "source": [
    "## Energy settings"
   ],
   "metadata": {
    "collapsed": false
   }
  },
  {
   "cell_type": "code",
   "execution_count": 4,
   "outputs": [],
   "source": [
    "# setup states\n",
    "n_nodes = A.shape[0]\n",
    "n_states = int(n_nodes/10)\n",
    "state_size = int(n_nodes/n_states)\n",
    "\n",
    "states = np.array([])\n",
    "for i in np.arange(n_states):\n",
    "    states = np.append(states, np.ones(state_size) * i)\n",
    "states = states.astype(int)"
   ],
   "metadata": {
    "collapsed": false,
    "pycharm": {
     "name": "#%%\n"
    }
   }
  },
  {
   "cell_type": "code",
   "execution_count": 5,
   "outputs": [
    {
     "name": "stdout",
     "output_type": "stream",
     "text": [
      "[ 0  0  0  0  0  0  0  0  0  0  1  1  1  1  1  1  1  1  1  1  2  2  2  2\n",
      "  2  2  2  2  2  2  3  3  3  3  3  3  3  3  3  3  4  4  4  4  4  4  4  4\n",
      "  4  4  5  5  5  5  5  5  5  5  5  5  6  6  6  6  6  6  6  6  6  6  7  7\n",
      "  7  7  7  7  7  7  7  7  8  8  8  8  8  8  8  8  8  8  9  9  9  9  9  9\n",
      "  9  9  9  9 10 10 10 10 10 10 10 10 10 10 11 11 11 11 11 11 11 11 11 11\n",
      " 12 12 12 12 12 12 12 12 12 12 13 13 13 13 13 13 13 13 13 13 14 14 14 14\n",
      " 14 14 14 14 14 14 15 15 15 15 15 15 15 15 15 15 16 16 16 16 16 16 16 16\n",
      " 16 16 17 17 17 17 17 17 17 17 17 17 18 18 18 18 18 18 18 18 18 18 19 19\n",
      " 19 19 19 19 19 19 19 19]\n"
     ]
    }
   ],
   "source": [
    "print(states)"
   ],
   "metadata": {
    "collapsed": false,
    "pycharm": {
     "name": "#%%\n"
    }
   }
  },
  {
   "cell_type": "markdown",
   "source": [
    "## Minimum energy"
   ],
   "metadata": {
    "collapsed": false
   }
  },
  {
   "cell_type": "code",
   "execution_count": 6,
   "outputs": [
    {
     "name": "stdout",
     "output_type": "stream",
     "text": [
      "Normalizing A for a continuous-time system\n"
     ]
    }
   ],
   "source": [
    "from network_control.utils import matrix_normalization\n",
    "from network_control.energies import minimum_energy\n",
    "\n",
    "# settings\n",
    "# time horizon\n",
    "T = 1\n",
    "# set all nodes as control nodes\n",
    "B = np.eye(n_nodes)\n",
    "# normalize A matrix for a continuous-time system\n",
    "A = matrix_normalization(A, version='continuous')"
   ],
   "metadata": {
    "collapsed": false,
    "pycharm": {
     "name": "#%%\n"
    }
   }
  },
  {
   "cell_type": "code",
   "execution_count": 7,
   "outputs": [
    {
     "name": "stdout",
     "output_type": "stream",
     "text": [
      "time elapsed in seconds: 38.15\n"
     ]
    }
   ],
   "source": [
    "import time\n",
    "start_time = time.time() # start timer\n",
    "\n",
    "e = np.zeros((n_states, n_states, n_nodes))\n",
    "for i in np.arange(n_states):\n",
    "    x0 = states == i # get ith initial state\n",
    "    for j in np.arange(n_states):\n",
    "        xf = states == j # get jth target state\n",
    "        m_x, m_u, n_err = minimum_energy(A, T, B, x0, xf)\n",
    "        e[i, j, :] = np.sum(np.square(m_u), axis=0)\n",
    "\n",
    "end_time = time.time() # stop timer\n",
    "elapsed_time = end_time - start_time\n",
    "print('time elapsed in seconds: {:.2f}'.format(elapsed_time)) # print elapsed time"
   ],
   "metadata": {
    "collapsed": false,
    "pycharm": {
     "name": "#%%\n"
    }
   }
  },
  {
   "cell_type": "markdown",
   "source": [
    "## Minimum energy fast"
   ],
   "metadata": {
    "collapsed": false
   }
  },
  {
   "cell_type": "code",
   "execution_count": 8,
   "outputs": [
    {
     "name": "stdout",
     "output_type": "stream",
     "text": [
      "(200, 400) (200, 400)\n"
     ]
    }
   ],
   "source": [
    "from network_control.utils import expand_states\n",
    "x0_mat, xf_mat = expand_states(states)\n",
    "print(x0_mat.shape, xf_mat.shape)"
   ],
   "metadata": {
    "collapsed": false,
    "pycharm": {
     "name": "#%%\n"
    }
   }
  },
  {
   "cell_type": "code",
   "execution_count": 9,
   "outputs": [
    {
     "name": "stdout",
     "output_type": "stream",
     "text": [
      "time elapsed in seconds: 0.61\n"
     ]
    }
   ],
   "source": [
    "from network_control.energies import minimum_energy_fast\n",
    "\n",
    "start_time = time.time() # start timer\n",
    "\n",
    "e_fast = minimum_energy_fast(A, T, B, x0_mat, xf_mat)\n",
    "e_fast = e_fast.transpose().reshape(n_states, n_states, n_nodes)\n",
    "\n",
    "end_time = time.time() # stop timer\n",
    "elapsed_time = end_time - start_time\n",
    "print('time elapsed in seconds: {:.2f}'.format(elapsed_time)) # print elapsed time"
   ],
   "metadata": {
    "collapsed": false,
    "pycharm": {
     "name": "#%%\n"
    }
   }
  },
  {
   "cell_type": "code",
   "execution_count": 10,
   "outputs": [
    {
     "name": "stdout",
     "output_type": "stream",
     "text": [
      "(20, 20, 200)\n",
      "(20, 20, 200)\n"
     ]
    }
   ],
   "source": [
    "print(e.shape)\n",
    "print(e_fast.shape)"
   ],
   "metadata": {
    "collapsed": false,
    "pycharm": {
     "name": "#%%\n"
    }
   }
  },
  {
   "cell_type": "markdown",
   "source": [
    "### Plots"
   ],
   "metadata": {
    "collapsed": false
   }
  },
  {
   "cell_type": "code",
   "execution_count": 11,
   "outputs": [
    {
     "data": {
      "text/plain": "<Figure size 360x180 with 3 Axes>",
      "image/png": "[encoded data removed]"
     },
     "metadata": {},
     "output_type": "display_data"
    }
   ],
   "source": [
    "import matplotlib.pyplot as plt\n",
    "import seaborn as sns\n",
    "from network_control.plotting import set_plotting_params, reg_plot\n",
    "set_plotting_params()\n",
    "\n",
    "# sum energy over regions\n",
    "e_sum = np.sum(e, axis=2)\n",
    "e_fast_sum = np.sum(e_fast, axis=2)\n",
    "\n",
    "# compute correlations across regional energy for each transition separately\n",
    "r = np.zeros((n_states, n_states))\n",
    "for i in np.arange(n_states):\n",
    "    for j in np.arange(n_states):\n",
    "        r[i, j] = sp.stats.pearsonr(e[i, j, :], e_fast[i, j, :])[0]\n",
    "\n",
    "# plot\n",
    "f, ax = plt.subplots(1, 2, figsize=(5, 2.5))\n",
    "\n",
    "# correlation between whole-brain energy across state transitions\n",
    "mask = ~np.eye(n_states, dtype=bool)\n",
    "indices = np.where(mask)\n",
    "reg_plot(x=e_sum[indices], y=e_fast_sum[indices], xlabel='minumum energy', ylabel='minumum energy (fast)', ax=ax[0],\n",
    "         add_spearman=True, kdeplot=False, regplot=False)\n",
    "\n",
    "# energy correlated across regions for each state transition separately\n",
    "sns.heatmap(r, square=True, ax=ax[1], cbar_kws={\"shrink\": 0.80})\n",
    "ax[1].set_ylabel(\"initial states\", labelpad=-1)\n",
    "ax[1].set_xlabel(\"target states\", labelpad=-1)\n",
    "ax[1].set_yticklabels('')\n",
    "ax[1].set_xticklabels('')\n",
    "ax[1].tick_params(pad=-2.5)\n",
    "\n",
    "plt.show()\n",
    "f.savefig('minimum_energy_fast', dpi=300, bbox_inches='tight', pad_inches=0.1)\n",
    "plt.close()"
   ],
   "metadata": {
    "collapsed": false,
    "pycharm": {
     "name": "#%%\n"
    }
   }
  }
 ],
 "metadata": {
  "kernelspec": {
   "display_name": "Python 3",
   "language": "python",
   "name": "python3"
  },
  "language_info": {
   "codemirror_mode": {
    "name": "ipython",
    "version": 2
   },
   "file_extension": ".py",
   "mimetype": "text/x-python",
   "name": "python",
   "nbconvert_exporter": "python",
   "pygments_lexer": "ipython2",
   "version": "2.7.6"
  }
 },
 "nbformat": 4,
 "nbformat_minor": 0
}